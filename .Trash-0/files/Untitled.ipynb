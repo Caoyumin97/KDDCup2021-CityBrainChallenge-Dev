{
 "cells": [
  {
   "cell_type": "markdown",
   "id": "e4833598",
   "metadata": {},
   "source": [
    "# Libs"
   ]
  },
  {
   "cell_type": "code",
   "execution_count": 35,
   "id": "5338958f",
   "metadata": {},
   "outputs": [],
   "source": [
    "import gym\n",
    "import pandas as pd\n",
    "\n",
    "from evaluate import *"
   ]
  },
  {
   "cell_type": "markdown",
   "id": "c2507004",
   "metadata": {},
   "source": [
    "# Simulation Setup"
   ]
  },
  {
   "cell_type": "code",
   "execution_count": 4,
   "id": "7a4afd7d",
   "metadata": {},
   "outputs": [],
   "source": [
    "input_dir = './agent'\n",
    "output_dir  = './out' \n",
    "sim_cfg = './cfg/simulator.cfg'"
   ]
  },
  {
   "cell_type": "code",
   "execution_count": 10,
   "id": "dfd32e3f",
   "metadata": {
    "scrolled": true
   },
   "outputs": [
    {
     "name": "stderr",
     "output_type": "stream",
     "text": [
      "INFO:/starter-kit/evaluate.py:root_path=[.git, .gitignore, .ipynb_checkpoints, agent, agent.zip, cfg, data, demo.py, evaluate.py, log, out, readme.md, ui, Untitled.ipynb, __pycache__]\n",
      "INFO:/starter-kit/evaluate.py:input_dir=[agent.py, gym_cfg.py, __pycache__]\n",
      "INFO:/starter-kit/evaluate.py:output_dir=[.gitignore, scores.json]\n",
      "INFO:/starter-kit/evaluate.py:submission_dir=[agent.py, gym_cfg.py, __pycache__]\n",
      "INFO:/starter-kit/evaluate.py:scores_dir=[.gitignore, scores.json]\n",
      "INFO:/starter-kit/evaluate.py:files under submission dir:[agent.py, gym_cfg.py, __pycache__]\n"
     ]
    }
   ],
   "source": [
    "simulator_cfg_file = sim_cfg\n",
    "submission_dir, scores_dir = resolve_dirs(\n",
    "    os.path.dirname(\"evaluate.py\"), input_dir, output_dir\n",
    ")\n",
    "agent_spec,gym_cfg = load_agent_submission(submission_dir)"
   ]
  },
  {
   "cell_type": "markdown",
   "id": "3607dd50",
   "metadata": {},
   "source": [
    "# Simulation Init"
   ]
  },
  {
   "cell_type": "code",
   "execution_count": 12,
   "id": "6e8ea668",
   "metadata": {},
   "outputs": [],
   "source": [
    "gym_configs = gym_cfg.cfg\n",
    "simulator_configs = read_config(simulator_cfg_file)\n",
    "env = gym.make(\n",
    "    'CBEngine-v0',\n",
    "    simulator_cfg_file=simulator_cfg_file,\n",
    "    thread_num=1,\n",
    "    gym_dict = gym_configs\n",
    ")"
   ]
  },
  {
   "cell_type": "code",
   "execution_count": 17,
   "id": "2068bb35",
   "metadata": {},
   "outputs": [],
   "source": [
    "observations, infos = env.reset()\n",
    "agent_id_list = []\n",
    "for k in observations:\n",
    "    agent_id_list.append(int(k.split('_')[0]))\n",
    "agent_id_list = list(set(agent_id_list))\n",
    "agent = agent_spec['test']\n",
    "agent.load_agent_list(agent_id_list)"
   ]
  },
  {
   "cell_type": "markdown",
   "id": "38d3041e",
   "metadata": {},
   "source": [
    "# Run Simulation (Single Step)"
   ]
  },
  {
   "cell_type": "code",
   "execution_count": 61,
   "id": "f9b3ebd8",
   "metadata": {},
   "outputs": [
    {
     "name": "stdout",
     "output_type": "stream",
     "text": [
      "Warnning: at step 7 , agent 42167350403 switch to phase 4 . Maybe empty road\n",
      "Warnning: at step 7 , agent 42167350420 switch to phase 4 . Maybe empty road\n",
      "Warnning: at step 7 , agent 14670355735 switch to phase 4 . Maybe empty road\n",
      "Warnning: at step 7 , agent 42381408549 switch to phase 4 . Maybe empty road\n",
      "Warnning: at step 7 , agent 14790105773 switch to phase 4 . Maybe empty road\n",
      "Warnning: at step 7 , agent 42167350476 switch to phase 4 . Maybe empty road\n"
     ]
    }
   ],
   "source": [
    "actions = {}\n",
    "all_info = {\n",
    "    'observations':observations,\n",
    "    'info':infos\n",
    "}\n",
    "actions = agent.act(all_info)\n",
    "\n",
    "observations, rewards, dones, infos = env.step(actions)"
   ]
  },
  {
   "cell_type": "markdown",
   "id": "32eabc84",
   "metadata": {},
   "source": [
    "# Process Observation"
   ]
  },
  {
   "cell_type": "code",
   "execution_count": 62,
   "id": "d134e951",
   "metadata": {},
   "outputs": [],
   "source": [
    "# preprocess observations\n",
    "observations_for_agent = {}\n",
    "for key,val in observations.items():\n",
    "    observations_agent_id = int(key.split('_')[0])\n",
    "    observations_feature = key[key.find('_')+1:]\n",
    "    if(observations_agent_id not in observations_for_agent.keys()):\n",
    "        observations_for_agent[observations_agent_id] = {}\n",
    "    observations_for_agent[observations_agent_id][observations_feature] = val"
   ]
  },
  {
   "cell_type": "code",
   "execution_count": 63,
   "id": "19260a2e",
   "metadata": {},
   "outputs": [],
   "source": [
    "obs = []\n",
    "for agent_id, agent_obs in observations_for_agent.items():\n",
    "    sim_step = agent_obs['lane_speed'][0]\n",
    "    lane_speed = agent_obs['lane_speed'][1:]\n",
    "    lane_vehicle_num = agent_obs['lane_vehicle_num'][1:]\n",
    "    assert len(lane_speed) == len(lane_vehicle_num)\n",
    "    for idx, speed in enumerate(lane_speed):\n",
    "        road_idx = idx // 3\n",
    "        lane_idx = idx % 3\n",
    "        veh_num = lane_vehicle_num[idx]\n",
    "        obs.append([sim_step, agent_id, road_idx, lane_idx, speed, veh_num])\n",
    "\n",
    "obs_df = pd.DataFrame(obs, columns=['sim_step', 'agent_id', 'road_idx', 'lane_idx', 'speed', 'veh_num'])\n",
    "obs_df = obs_df[(obs_df.speed != -1) & (obs_df.veh_num != -1)].reset_index(drop=True)"
   ]
  },
  {
   "cell_type": "markdown",
   "id": "299496d7",
   "metadata": {},
   "source": [
    "# Process Roadnet"
   ]
  },
  {
   "cell_type": "code",
   "execution_count": 69,
   "id": "35f91209",
   "metadata": {},
   "outputs": [],
   "source": [
    "def process_roadnet(roadnet_file):\n",
    "    # intersections[key_id] = {\n",
    "    #     'have_signal': bool,\n",
    "    #     'end_roads': list of road_id. Roads that end at this intersection. The order is random.\n",
    "    #     'start_roads': list of road_id. Roads that start at this intersection. The order is random.\n",
    "    #     'lanes': list, contains the lane_id in. The order is explained in Docs.\n",
    "    # }\n",
    "    # roads[road_id] = {\n",
    "    #     'start_inter':int. Start intersection_id.\n",
    "    #     'end_inter':int. End intersection_id.\n",
    "    #     'length': float. Road length.\n",
    "    #     'speed_limit': float. Road speed limit.\n",
    "    #     'num_lanes': int. Number of lanes in this road.\n",
    "    #     'inverse_road':  Road_id of inverse_road.\n",
    "    #     'lanes': dict. roads['lanes'][lane_id] = list of 3 int value. Contains the Steerability of lanes\n",
    "    # }\n",
    "    # agents[agent_id] = list of length 8. contains the inroad0_id, inroad1_id, inroad2_id,inroad3_id, outroad0_id, outroad1_id, outroad2_id, outroad3_id\n",
    "\n",
    "    intersections = {}\n",
    "    roads = {}\n",
    "    agents = {}\n",
    "\n",
    "    agent_num = 0\n",
    "    road_num = 0\n",
    "    signal_num = 0\n",
    "    with open(roadnet_file, 'r') as f:\n",
    "        lines = f.readlines()\n",
    "        cnt = 0\n",
    "        pre_road = 0\n",
    "        is_obverse = 0\n",
    "        for line in lines:\n",
    "            line = line.rstrip('\\n').split(' ')\n",
    "            if ('' in line):\n",
    "                line.remove('')\n",
    "            if (len(line) == 1):\n",
    "                if (cnt == 0):\n",
    "                    agent_num = int(line[0])\n",
    "                    cnt += 1\n",
    "                elif (cnt == 1):\n",
    "                    road_num = int(line[0]) * 2\n",
    "                    cnt += 1\n",
    "                elif (cnt == 2):\n",
    "                    signal_num = int(line[0])\n",
    "                    cnt += 1\n",
    "            else:\n",
    "                if (cnt == 1):\n",
    "                    intersections[int(line[2])] = {\n",
    "                        'have_signal': int(line[3]),\n",
    "                        'end_roads': [],\n",
    "                        'start_roads': [],\n",
    "                        'lanes':[]\n",
    "                    }\n",
    "                elif (cnt == 2):\n",
    "                    if (len(line) != 8):\n",
    "                        road_id = pre_road[is_obverse]\n",
    "                        roads[road_id]['lanes'] = {}\n",
    "                        for i in range(roads[road_id]['num_lanes']):\n",
    "                            roads[road_id]['lanes'][road_id * 100 + i] = list(map(int, line[i * 3:i * 3 + 3]))\n",
    "                        is_obverse ^= 1\n",
    "                    else:\n",
    "                        roads[int(line[-2])] = {\n",
    "                            'start_inter': int(line[0]),\n",
    "                            'end_inter': int(line[1]),\n",
    "                            'length': float(line[2]),\n",
    "                            'speed_limit': float(line[3]),\n",
    "                            'num_lanes': int(line[4]),\n",
    "                            'inverse_road': int(line[-1])\n",
    "                        }\n",
    "                        roads[int(line[-1])] = {\n",
    "                            'start_inter': int(line[1]),\n",
    "                            'end_inter': int(line[0]),\n",
    "                            'length': float(line[2]),\n",
    "                            'speed_limit': float(line[3]),\n",
    "                            'num_lanes': int(line[5]),\n",
    "                            'inverse_road': int(line[-2])\n",
    "                        }\n",
    "                        intersections[int(line[0])]['end_roads'].append(int(line[-1]))\n",
    "                        intersections[int(line[1])]['end_roads'].append(int(line[-2]))\n",
    "                        intersections[int(line[0])]['start_roads'].append(int(line[-2]))\n",
    "                        intersections[int(line[1])]['start_roads'].append(int(line[-1]))\n",
    "                        pre_road = (int(line[-2]), int(line[-1]))\n",
    "                else:\n",
    "                    # 4 out-roads\n",
    "                    signal_road_order = list(map(int, line[1:]))\n",
    "                    now_agent = int(line[0])\n",
    "                    in_roads = []\n",
    "                    for road in signal_road_order:\n",
    "                        if (road != -1):\n",
    "                            in_roads.append(roads[road]['inverse_road'])\n",
    "                        else:\n",
    "                            in_roads.append(-1)\n",
    "                    in_roads += signal_road_order\n",
    "                    agents[now_agent] = in_roads\n",
    "    for agent, agent_roads in agents.items():\n",
    "        intersections[agent]['lanes'] = []\n",
    "        for road in agent_roads:\n",
    "            ## here we treat road -1 have 3 lanes\n",
    "            if (road == -1):\n",
    "                for i in range(3):\n",
    "                    intersections[agent]['lanes'].append(-1)\n",
    "            else:\n",
    "                for lane in roads[road]['lanes'].keys():\n",
    "                    intersections[agent]['lanes'].append(lane)\n",
    "\n",
    "    return intersections, roads, agents"
   ]
  },
  {
   "cell_type": "code",
   "execution_count": 70,
   "id": "cb05cb63",
   "metadata": {},
   "outputs": [],
   "source": [
    "intersections, roads, agents = process_roadnet('./data/roadnet_warm_up.txt')\n",
    "\n",
    "inters_df = pd.DataFrame(intersections).T.reset_index()\n",
    "inters_df.rename({\"index\":\"agent_id\"}, axis=1, inplace=True)\n",
    "\n",
    "roads_df = pd.DataFrame(roads).T.reset_index()\n",
    "roads_df.rename({\"index\":\"road_id\"}, axis=1, inplace=True)"
   ]
  },
  {
   "cell_type": "markdown",
   "id": "fff027c5",
   "metadata": {},
   "source": [
    "# Define Pressure"
   ]
  },
  {
   "cell_type": "code",
   "execution_count": 68,
   "id": "ed0f5095",
   "metadata": {},
   "outputs": [
    {
     "data": {
      "text/html": [
       "<div>\n",
       "<style scoped>\n",
       "    .dataframe tbody tr th:only-of-type {\n",
       "        vertical-align: middle;\n",
       "    }\n",
       "\n",
       "    .dataframe tbody tr th {\n",
       "        vertical-align: top;\n",
       "    }\n",
       "\n",
       "    .dataframe thead th {\n",
       "        text-align: right;\n",
       "    }\n",
       "</style>\n",
       "<table border=\"1\" class=\"dataframe\">\n",
       "  <thead>\n",
       "    <tr style=\"text-align: right;\">\n",
       "      <th></th>\n",
       "      <th>sim_step</th>\n",
       "      <th>agent_id</th>\n",
       "      <th>road_idx</th>\n",
       "      <th>lane_idx</th>\n",
       "      <th>speed</th>\n",
       "      <th>veh_num</th>\n",
       "    </tr>\n",
       "  </thead>\n",
       "  <tbody>\n",
       "    <tr>\n",
       "      <th>0</th>\n",
       "      <td>8</td>\n",
       "      <td>14670355735</td>\n",
       "      <td>0</td>\n",
       "      <td>0</td>\n",
       "      <td>-2</td>\n",
       "      <td>0</td>\n",
       "    </tr>\n",
       "    <tr>\n",
       "      <th>1</th>\n",
       "      <td>8</td>\n",
       "      <td>14670355735</td>\n",
       "      <td>0</td>\n",
       "      <td>1</td>\n",
       "      <td>-2</td>\n",
       "      <td>0</td>\n",
       "    </tr>\n",
       "    <tr>\n",
       "      <th>3</th>\n",
       "      <td>8</td>\n",
       "      <td>14670355735</td>\n",
       "      <td>1</td>\n",
       "      <td>0</td>\n",
       "      <td>-2</td>\n",
       "      <td>0</td>\n",
       "    </tr>\n",
       "    <tr>\n",
       "      <th>4</th>\n",
       "      <td>8</td>\n",
       "      <td>14670355735</td>\n",
       "      <td>1</td>\n",
       "      <td>1</td>\n",
       "      <td>-2</td>\n",
       "      <td>0</td>\n",
       "    </tr>\n",
       "    <tr>\n",
       "      <th>6</th>\n",
       "      <td>8</td>\n",
       "      <td>14670355735</td>\n",
       "      <td>2</td>\n",
       "      <td>0</td>\n",
       "      <td>-2</td>\n",
       "      <td>0</td>\n",
       "    </tr>\n",
       "    <tr>\n",
       "      <th>7</th>\n",
       "      <td>8</td>\n",
       "      <td>14670355735</td>\n",
       "      <td>2</td>\n",
       "      <td>1</td>\n",
       "      <td>-2</td>\n",
       "      <td>0</td>\n",
       "    </tr>\n",
       "    <tr>\n",
       "      <th>9</th>\n",
       "      <td>8</td>\n",
       "      <td>14670355735</td>\n",
       "      <td>4</td>\n",
       "      <td>0</td>\n",
       "      <td>-2</td>\n",
       "      <td>0</td>\n",
       "    </tr>\n",
       "    <tr>\n",
       "      <th>10</th>\n",
       "      <td>8</td>\n",
       "      <td>14670355735</td>\n",
       "      <td>4</td>\n",
       "      <td>1</td>\n",
       "      <td>-2</td>\n",
       "      <td>0</td>\n",
       "    </tr>\n",
       "    <tr>\n",
       "      <th>12</th>\n",
       "      <td>8</td>\n",
       "      <td>14670355735</td>\n",
       "      <td>5</td>\n",
       "      <td>0</td>\n",
       "      <td>-2</td>\n",
       "      <td>0</td>\n",
       "    </tr>\n",
       "    <tr>\n",
       "      <th>13</th>\n",
       "      <td>8</td>\n",
       "      <td>14670355735</td>\n",
       "      <td>5</td>\n",
       "      <td>1</td>\n",
       "      <td>-2</td>\n",
       "      <td>0</td>\n",
       "    </tr>\n",
       "    <tr>\n",
       "      <th>15</th>\n",
       "      <td>8</td>\n",
       "      <td>14670355735</td>\n",
       "      <td>6</td>\n",
       "      <td>0</td>\n",
       "      <td>-2</td>\n",
       "      <td>0</td>\n",
       "    </tr>\n",
       "    <tr>\n",
       "      <th>16</th>\n",
       "      <td>8</td>\n",
       "      <td>14670355735</td>\n",
       "      <td>6</td>\n",
       "      <td>1</td>\n",
       "      <td>-2</td>\n",
       "      <td>0</td>\n",
       "    </tr>\n",
       "  </tbody>\n",
       "</table>\n",
       "</div>"
      ],
      "text/plain": [
       "    sim_step     agent_id  road_idx  lane_idx  speed  veh_num\n",
       "0          8  14670355735         0         0     -2        0\n",
       "1          8  14670355735         0         1     -2        0\n",
       "3          8  14670355735         1         0     -2        0\n",
       "4          8  14670355735         1         1     -2        0\n",
       "6          8  14670355735         2         0     -2        0\n",
       "7          8  14670355735         2         1     -2        0\n",
       "9          8  14670355735         4         0     -2        0\n",
       "10         8  14670355735         4         1     -2        0\n",
       "12         8  14670355735         5         0     -2        0\n",
       "13         8  14670355735         5         1     -2        0\n",
       "15         8  14670355735         6         0     -2        0\n",
       "16         8  14670355735         6         1     -2        0"
      ]
     },
     "execution_count": 68,
     "metadata": {},
     "output_type": "execute_result"
    }
   ],
   "source": [
    "obs_df[(obs_df.agent_id == 14670355735) & (obs_df.lane_idx < 2)]"
   ]
  }
 ],
 "metadata": {
  "kernelspec": {
   "display_name": "Python 3",
   "language": "python",
   "name": "python3"
  },
  "language_info": {
   "codemirror_mode": {
    "name": "ipython",
    "version": 3
   },
   "file_extension": ".py",
   "mimetype": "text/x-python",
   "name": "python",
   "nbconvert_exporter": "python",
   "pygments_lexer": "ipython3",
   "version": "3.7.5"
  }
 },
 "nbformat": 4,
 "nbformat_minor": 5
}
