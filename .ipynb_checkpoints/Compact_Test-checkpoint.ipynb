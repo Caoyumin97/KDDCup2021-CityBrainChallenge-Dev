{
 "cells": [
  {
   "cell_type": "markdown",
   "id": "2ff79d5f",
   "metadata": {},
   "source": [
    "# Libs"
   ]
  },
  {
   "cell_type": "code",
   "execution_count": null,
   "id": "15fc6bc7",
   "metadata": {},
   "outputs": [],
   "source": [
    "import gym\n",
    "import pandas as pd\n",
    "import matplotlib.pyplot as plt\n",
    "%matplotlib inline\n",
    "\n",
    "from evaluate import *"
   ]
  },
  {
   "cell_type": "markdown",
   "id": "0ff69d2d",
   "metadata": {},
   "source": [
    "# Simulation Setup"
   ]
  },
  {
   "cell_type": "code",
   "execution_count": null,
   "id": "c3f45bdc",
   "metadata": {},
   "outputs": [],
   "source": [
    "input_dir = './agent'\n",
    "output_dir  = './out' \n",
    "sim_cfg = './cfg/simulator.cfg'"
   ]
  },
  {
   "cell_type": "code",
   "execution_count": null,
   "id": "670bed19",
   "metadata": {
    "scrolled": true
   },
   "outputs": [],
   "source": [
    "simulator_cfg_file = sim_cfg\n",
    "submission_dir, scores_dir = resolve_dirs(\n",
    "    os.path.dirname(\"evaluate.py\"), input_dir, output_dir\n",
    ")\n",
    "agent_spec,gym_cfg = load_agent_submission(submission_dir)"
   ]
  },
  {
   "cell_type": "markdown",
   "id": "379936d2",
   "metadata": {},
   "source": [
    "# Simulation Init"
   ]
  },
  {
   "cell_type": "code",
   "execution_count": null,
   "id": "2a1d54c3",
   "metadata": {},
   "outputs": [],
   "source": [
    "gym_configs = gym_cfg.cfg\n",
    "simulator_configs = read_config(simulator_cfg_file)\n",
    "env = gym.make(\n",
    "    'CBEngine-v0',\n",
    "    simulator_cfg_file=simulator_cfg_file,\n",
    "    thread_num=1,\n",
    "    gym_dict = gym_configs\n",
    ")"
   ]
  },
  {
   "cell_type": "code",
   "execution_count": null,
   "id": "ce5bf9f1",
   "metadata": {},
   "outputs": [],
   "source": [
    "observations, infos = env.reset()\n",
    "agent_id_list = []\n",
    "for k in observations:\n",
    "    agent_id_list.append(int(k.split('_')[0]))\n",
    "agent_id_list = list(set(agent_id_list))\n",
    "agent = agent_spec['test']\n",
    "agent.load_agent_list(agent_id_list)"
   ]
  },
  {
   "cell_type": "markdown",
   "id": "7a654afc",
   "metadata": {},
   "source": [
    "# Run Simulation (Single Step)"
   ]
  },
  {
   "cell_type": "code",
   "execution_count": null,
   "id": "a67528ee",
   "metadata": {},
   "outputs": [],
   "source": [
    "rec = []\n",
    "for i in range(100):\n",
    "    pressures, action = act(observations)\n",
    "    observations, rewards, dones, infos = env.step(actions)\n",
    "    \n",
    "    #rec\n",
    "    rec_step = []\n",
    "    for k, v in action.items():\n",
    "        rec_step.append([i, k, v, pressures[k]])\n",
    "    rec += rec_step"
   ]
  },
  {
   "cell_type": "code",
   "execution_count": null,
   "id": "8e03cc5c",
   "metadata": {},
   "outputs": [],
   "source": [
    "rec_df = pd.DataFrame(rec, columns=['sim_step', 'agent_id', 'action', 'pressure'])\n",
    "agent_ids = rec_df['agent_id'].unique()\n",
    "plt.plot(rec_df[rec_df.agent_id == agent_ids[0]]['action'].values)"
   ]
  },
  {
   "cell_type": "code",
   "execution_count": null,
   "id": "c9a90322",
   "metadata": {},
   "outputs": [],
   "source": [
    "rec_df[rec_df.agent_id == agent_ids[0]]"
   ]
  },
  {
   "cell_type": "markdown",
   "id": "508f2d60",
   "metadata": {},
   "source": [
    "# Process Observation"
   ]
  },
  {
   "cell_type": "code",
   "execution_count": null,
   "id": "09ea1047",
   "metadata": {},
   "outputs": [],
   "source": [
    "def obs_process(observations):\n",
    "    # preprocess observations\n",
    "    observations_for_agent = {}\n",
    "    for key,val in observations.items():\n",
    "        observations_agent_id = int(key.split('_')[0])\n",
    "        observations_feature = key[key.find('_')+1:]\n",
    "        if(observations_agent_id not in observations_for_agent.keys()):\n",
    "            observations_for_agent[observations_agent_id] = {}\n",
    "        observations_for_agent[observations_agent_id][observations_feature] = val\n",
    "\n",
    "    # format into pd.dataframe\n",
    "    obs = []\n",
    "    for agent_id, agent_obs in observations_for_agent.items():\n",
    "        sim_step = agent_obs['lane_speed'][0]\n",
    "        lane_speed = agent_obs['lane_speed'][1:]\n",
    "        lane_vehicle_num = agent_obs['lane_vehicle_num'][1:]\n",
    "        assert len(lane_speed) == len(lane_vehicle_num)\n",
    "        for idx, speed in enumerate(lane_speed):\n",
    "            road_idx = idx // 3\n",
    "            lane_idx = idx % 3\n",
    "            veh_num = lane_vehicle_num[idx]\n",
    "            obs.append([sim_step, agent_id, road_idx, lane_idx, speed, veh_num])\n",
    "\n",
    "    obs_df = pd.DataFrame(obs, columns=['sim_step', 'agent_id', 'road_idx',\n",
    "                                        'lane_idx', 'speed', 'veh_num'])\n",
    "\n",
    "    return obs_df"
   ]
  },
  {
   "cell_type": "markdown",
   "id": "672a420b",
   "metadata": {},
   "source": [
    "# Define Pressure"
   ]
  },
  {
   "cell_type": "markdown",
   "id": "6480bd86",
   "metadata": {},
   "source": [
    "# Pressure 1:\n",
    "the number of vehicles on the approach"
   ]
  },
  {
   "cell_type": "code",
   "execution_count": null,
   "id": "51dc13d7",
   "metadata": {},
   "outputs": [],
   "source": [
    "def gen_pressure(obs_df):\n",
    "    \n",
    "    # init params\n",
    "    road_idx_to_arm = {0:\"Ni\", 1:\"Ei\", 2:\"Si\", 3:\"Wi\",\n",
    "                       4:\"No\", 5:\"Eo\", 6:\"So\", 7:\"Wo\"}\n",
    "    lane_idx_to_mv = {0:\"L\", 1:\"T\", 2:\"R\"}\n",
    "    mv_to_phase = {\n",
    "        \"NiL\":1, \"SiL\":1, \"NiT\":2, \"SiT\":2,\n",
    "        \"EiL\":3,  \"WiL\":3, \"EiT\":4, \"WiT\":4\n",
    "    }\n",
    "    \n",
    "    # formatting obs_df\n",
    "    obs_df = obs_df[(obs_df.road_idx < 4) & (obs_df.lane_idx < 2)]\n",
    "    obs_df['road_idx'] = obs_df['road_idx'].replace(road_idx_to_arm)\n",
    "    obs_df['lane_idx'] = obs_df['lane_idx'].replace(lane_idx_to_mv)\n",
    "    obs_df['mv'] = obs_df['road_idx'] + obs_df['lane_idx']\n",
    "    obs_df['phase'] = obs_df['mv'].replace(mv_to_phase)\n",
    "\n",
    "    # define pressure: the number of vehicles on the approach\n",
    "    pressure = obs_df.pivot_table(index='agent_id',\n",
    "                                  columns='mv',\n",
    "                                  values='veh_num',\n",
    "                                  aggfunc='sum')\n",
    "\n",
    "    return pressure"
   ]
  },
  {
   "cell_type": "code",
   "execution_count": null,
   "id": "ffcc38c3",
   "metadata": {},
   "outputs": [],
   "source": [
    "def act(observations):\n",
    "    obs_df = obs_process(observations)\n",
    "    cur_step = obs_df['sim_step'].unique()[0]\n",
    "\n",
    "    # get pressure\n",
    "    pressure = gen_pressure(obs_df)\n",
    "\n",
    "    # get actions\n",
    "    phase_mv_inc = [(1, 2), (1, 4), (2, 3), (2, 5),\n",
    "                    (3, 0), (3, 6), (4, 1), (4, 7),\n",
    "                    (5, 2), (5, 3), (6, 0), (6, 1),\n",
    "                    (7, 4), (7, 5), (8, 6), (8, 7)]\n",
    "    phase_mv_incidence = np.zeros((8, 8))\n",
    "    for x, y in phase_mv_inc:\n",
    "        phase_mv_incidence[x - 1, y] = 1\n",
    "\n",
    "    action = {}\n",
    "    pressures = {}\n",
    "    for i in range(len(pressure)):\n",
    "        agent_id = pressure.index[i]\n",
    "        phase_pressures = np.dot(phase_mv_incidence,pressure.iloc[i, :].values)\n",
    "        max_locs = np.where(phase_pressures == np.max(phase_pressures))[0]\n",
    "        if np.std(phase_pressures) == 0:\n",
    "            action[agent_id] = np.random.randint(1, 9, 1)[0]\n",
    "        elif len(max_locs) > 1:\n",
    "            loc = np.random.randint(0, len(max_locs), 1)\n",
    "            action[agent_id] = max_locs[loc][0] + 1\n",
    "            print(agent_id, \":\", action[agent_id])\n",
    "        else:\n",
    "            agent_action = np.argmax(phase_pressures) + 1\n",
    "            action[agent_id] = agent_action\n",
    "        pressures[agent_id] = phase_pressures\n",
    "        \n",
    "    return pressures, action"
   ]
  }
 ],
 "metadata": {
  "kernelspec": {
   "display_name": "Python 3",
   "language": "python",
   "name": "python3"
  },
  "language_info": {
   "codemirror_mode": {
    "name": "ipython",
    "version": 3
   },
   "file_extension": ".py",
   "mimetype": "text/x-python",
   "name": "python",
   "nbconvert_exporter": "python",
   "pygments_lexer": "ipython3",
   "version": "3.7.5"
  }
 },
 "nbformat": 4,
 "nbformat_minor": 5
}
