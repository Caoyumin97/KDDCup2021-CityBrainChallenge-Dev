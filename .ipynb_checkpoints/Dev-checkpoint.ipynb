{
 "cells": [
  {
   "cell_type": "markdown",
   "id": "2ff79d5f",
   "metadata": {},
   "source": [
    "# Libs"
   ]
  },
  {
   "cell_type": "code",
   "execution_count": null,
   "id": "15fc6bc7",
   "metadata": {},
   "outputs": [],
   "source": [
    "import gym\n",
    "import pandas as pd\n",
    "\n",
    "from evaluate import *"
   ]
  },
  {
   "cell_type": "markdown",
   "id": "0ff69d2d",
   "metadata": {},
   "source": [
    "# Simulation Setup"
   ]
  },
  {
   "cell_type": "code",
   "execution_count": null,
   "id": "c3f45bdc",
   "metadata": {},
   "outputs": [],
   "source": [
    "input_dir = './agent'\n",
    "output_dir  = './out' \n",
    "sim_cfg = './cfg/simulator.cfg'"
   ]
  },
  {
   "cell_type": "code",
   "execution_count": null,
   "id": "670bed19",
   "metadata": {
    "scrolled": true
   },
   "outputs": [],
   "source": [
    "simulator_cfg_file = sim_cfg\n",
    "submission_dir, scores_dir = resolve_dirs(\n",
    "    os.path.dirname(\"evaluate.py\"), input_dir, output_dir\n",
    ")\n",
    "agent_spec,gym_cfg = load_agent_submission(submission_dir)"
   ]
  },
  {
   "cell_type": "markdown",
   "id": "379936d2",
   "metadata": {},
   "source": [
    "# Simulation Init"
   ]
  },
  {
   "cell_type": "code",
   "execution_count": null,
   "id": "2a1d54c3",
   "metadata": {},
   "outputs": [],
   "source": [
    "gym_configs = gym_cfg.cfg\n",
    "simulator_configs = read_config(simulator_cfg_file)\n",
    "env = gym.make(\n",
    "    'CBEngine-v0',\n",
    "    simulator_cfg_file=simulator_cfg_file,\n",
    "    thread_num=1,\n",
    "    gym_dict = gym_configs\n",
    ")"
   ]
  },
  {
   "cell_type": "code",
   "execution_count": null,
   "id": "ce5bf9f1",
   "metadata": {},
   "outputs": [],
   "source": [
    "observations, infos = env.reset()\n",
    "agent_id_list = []\n",
    "for k in observations:\n",
    "    agent_id_list.append(int(k.split('_')[0]))\n",
    "agent_id_list = list(set(agent_id_list))\n",
    "agent = agent_spec['test']\n",
    "agent.load_agent_list(agent_id_list)"
   ]
  },
  {
   "cell_type": "markdown",
   "id": "7a654afc",
   "metadata": {},
   "source": [
    "# Run Simulation (Single Step)"
   ]
  },
  {
   "cell_type": "code",
   "execution_count": null,
   "id": "a67528ee",
   "metadata": {},
   "outputs": [],
   "source": [
    "for i in range(20):\n",
    "    actions = {}\n",
    "    all_info = {\n",
    "        'observations':observations,\n",
    "        'info':infos\n",
    "    }\n",
    "    actions = agent.act(all_info)\n",
    "\n",
    "    observations, rewards, dones, infos = env.step(actions)"
   ]
  },
  {
   "cell_type": "markdown",
   "id": "508f2d60",
   "metadata": {},
   "source": [
    "# Process Observation"
   ]
  },
  {
   "cell_type": "code",
   "execution_count": null,
   "id": "09ea1047",
   "metadata": {},
   "outputs": [],
   "source": [
    "# preprocess observations\n",
    "observations_for_agent = {}\n",
    "for key,val in observations.items():\n",
    "    observations_agent_id = int(key.split('_')[0])\n",
    "    observations_feature = key[key.find('_')+1:]\n",
    "    if(observations_agent_id not in observations_for_agent.keys()):\n",
    "        observations_for_agent[observations_agent_id] = {}\n",
    "    observations_for_agent[observations_agent_id][observations_feature] = val"
   ]
  },
  {
   "cell_type": "code",
   "execution_count": null,
   "id": "21f32aa9",
   "metadata": {},
   "outputs": [],
   "source": [
    "obs = []\n",
    "for agent_id, agent_obs in observations_for_agent.items():\n",
    "    sim_step = agent_obs['lane_speed'][0]\n",
    "    lane_speed = agent_obs['lane_speed'][1:]\n",
    "    lane_vehicle_num = agent_obs['lane_vehicle_num'][1:]\n",
    "    assert len(lane_speed) == len(lane_vehicle_num)\n",
    "    for idx, speed in enumerate(lane_speed):\n",
    "        road_idx = idx // 3\n",
    "        lane_idx = idx % 3\n",
    "        veh_num = lane_vehicle_num[idx]\n",
    "        obs.append([sim_step, agent_id, road_idx, lane_idx, speed, veh_num])\n",
    "\n",
    "obs_df = pd.DataFrame(obs, columns=['sim_step', 'agent_id', 'road_idx', 'lane_idx', 'speed', 'veh_num'])"
   ]
  },
  {
   "cell_type": "markdown",
   "id": "c1e19949",
   "metadata": {},
   "source": [
    "# Process Roadnet"
   ]
  },
  {
   "cell_type": "code",
   "execution_count": null,
   "id": "0b2e1ee8",
   "metadata": {},
   "outputs": [],
   "source": [
    "def process_roadnet(roadnet_file):\n",
    "    # intersections[key_id] = {\n",
    "    #     'have_signal': bool,\n",
    "    #     'end_roads': list of road_id. Roads that end at this intersection. The order is random.\n",
    "    #     'start_roads': list of road_id. Roads that start at this intersection. The order is random.\n",
    "    #     'lanes': list, contains the lane_id in. The order is explained in Docs.\n",
    "    # }\n",
    "    # roads[road_id] = {\n",
    "    #     'start_inter':int. Start intersection_id.\n",
    "    #     'end_inter':int. End intersection_id.\n",
    "    #     'length': float. Road length.\n",
    "    #     'speed_limit': float. Road speed limit.\n",
    "    #     'num_lanes': int. Number of lanes in this road.\n",
    "    #     'inverse_road':  Road_id of inverse_road.\n",
    "    #     'lanes': dict. roads['lanes'][lane_id] = list of 3 int value. Contains the Steerability of lanes\n",
    "    # }\n",
    "    # agents[agent_id] = list of length 8. contains the inroad0_id, inroad1_id, inroad2_id,inroad3_id, outroad0_id, outroad1_id, outroad2_id, outroad3_id\n",
    "\n",
    "    intersections = {}\n",
    "    roads = {}\n",
    "    agents = {}\n",
    "\n",
    "    agent_num = 0\n",
    "    road_num = 0\n",
    "    signal_num = 0\n",
    "    with open(roadnet_file, 'r') as f:\n",
    "        lines = f.readlines()\n",
    "        cnt = 0\n",
    "        pre_road = 0\n",
    "        is_obverse = 0\n",
    "        for line in lines:\n",
    "            line = line.rstrip('\\n').split(' ')\n",
    "            if ('' in line):\n",
    "                line.remove('')\n",
    "            if (len(line) == 1):\n",
    "                if (cnt == 0):\n",
    "                    agent_num = int(line[0])\n",
    "                    cnt += 1\n",
    "                elif (cnt == 1):\n",
    "                    road_num = int(line[0]) * 2\n",
    "                    cnt += 1\n",
    "                elif (cnt == 2):\n",
    "                    signal_num = int(line[0])\n",
    "                    cnt += 1\n",
    "            else:\n",
    "                if (cnt == 1):\n",
    "                    intersections[int(line[2])] = {\n",
    "                        'have_signal': int(line[3]),\n",
    "                        'end_roads': [],\n",
    "                        'start_roads': [],\n",
    "                        'lanes':[]\n",
    "                    }\n",
    "                elif (cnt == 2):\n",
    "                    if (len(line) != 8):\n",
    "                        road_id = pre_road[is_obverse]\n",
    "                        roads[road_id]['lanes'] = {}\n",
    "                        for i in range(roads[road_id]['num_lanes']):\n",
    "                            roads[road_id]['lanes'][road_id * 100 + i] = list(map(int, line[i * 3:i * 3 + 3]))\n",
    "                        is_obverse ^= 1\n",
    "                    else:\n",
    "                        roads[int(line[-2])] = {\n",
    "                            'start_inter': int(line[0]),\n",
    "                            'end_inter': int(line[1]),\n",
    "                            'length': float(line[2]),\n",
    "                            'speed_limit': float(line[3]),\n",
    "                            'num_lanes': int(line[4]),\n",
    "                            'inverse_road': int(line[-1])\n",
    "                        }\n",
    "                        roads[int(line[-1])] = {\n",
    "                            'start_inter': int(line[1]),\n",
    "                            'end_inter': int(line[0]),\n",
    "                            'length': float(line[2]),\n",
    "                            'speed_limit': float(line[3]),\n",
    "                            'num_lanes': int(line[5]),\n",
    "                            'inverse_road': int(line[-2])\n",
    "                        }\n",
    "                        intersections[int(line[0])]['end_roads'].append(int(line[-1]))\n",
    "                        intersections[int(line[1])]['end_roads'].append(int(line[-2]))\n",
    "                        intersections[int(line[0])]['start_roads'].append(int(line[-2]))\n",
    "                        intersections[int(line[1])]['start_roads'].append(int(line[-1]))\n",
    "                        pre_road = (int(line[-2]), int(line[-1]))\n",
    "                else:\n",
    "                    # 4 out-roads\n",
    "                    signal_road_order = list(map(int, line[1:]))\n",
    "                    now_agent = int(line[0])\n",
    "                    in_roads = []\n",
    "                    for road in signal_road_order:\n",
    "                        if (road != -1):\n",
    "                            in_roads.append(roads[road]['inverse_road'])\n",
    "                        else:\n",
    "                            in_roads.append(-1)\n",
    "                    in_roads += signal_road_order\n",
    "                    agents[now_agent] = in_roads\n",
    "    for agent, agent_roads in agents.items():\n",
    "        intersections[agent]['lanes'] = []\n",
    "        for road in agent_roads:\n",
    "            ## here we treat road -1 have 3 lanes\n",
    "            if (road == -1):\n",
    "                for i in range(3):\n",
    "                    intersections[agent]['lanes'].append(-1)\n",
    "            else:\n",
    "                for lane in roads[road]['lanes'].keys():\n",
    "                    intersections[agent]['lanes'].append(lane)\n",
    "\n",
    "    return intersections, roads, agents"
   ]
  },
  {
   "cell_type": "code",
   "execution_count": null,
   "id": "d8e8b106",
   "metadata": {},
   "outputs": [],
   "source": [
    "intersections, roads, agents = process_roadnet('./data/roadnet_warm_up.txt')\n",
    "\n",
    "inters_df = pd.DataFrame(intersections).T.reset_index()\n",
    "inters_df.rename({\"index\":\"agent_id\"}, axis=1, inplace=True)\n",
    "\n",
    "roads_df = pd.DataFrame(roads).T.reset_index()\n",
    "roads_df.rename({\"index\":\"road_id\"}, axis=1, inplace=True)"
   ]
  },
  {
   "cell_type": "markdown",
   "id": "672a420b",
   "metadata": {},
   "source": [
    "# Define Pressure"
   ]
  },
  {
   "cell_type": "markdown",
   "id": "6480bd86",
   "metadata": {},
   "source": [
    "# Pressure 1:\n",
    "the number of vehicles on the approach"
   ]
  },
  {
   "cell_type": "code",
   "execution_count": null,
   "id": "51dc13d7",
   "metadata": {},
   "outputs": [],
   "source": [
    "obs_df = obs_df[(obs_df.road_idx < 4) & (obs_df.lane_idx < 2)]\n",
    "road_idx_to_arm = {0:\"Ni\", 1:\"Ei\", 2:\"Si\", 3:\"Wi\",\n",
    "                   4:\"No\", 5:\"Eo\", 6:\"So\", 7:\"Wo\"}\n",
    "lane_idx_to_mv = {0:\"L\", 1:\"T\", 2:\"R\"}\n",
    "obs_df['road_idx'] = obs_df['road_idx'].replace(road_idx_to_arm)\n",
    "obs_df['lane_idx'] = obs_df['lane_idx'].replace(lane_idx_to_mv)\n",
    "obs_df['mv'] = obs_df['road_idx'] + obs_df['lane_idx']\n",
    "\n",
    "mv_to_phase = {\n",
    "    \"NiL\":1, \"SiL\":1, \"NiT\":2, \"SiT\":2,\n",
    "    \"EiL\":3,  \"WiL\":3, \"EiT\":4, \"WiT\":4\n",
    "}\n",
    "obs_df['phase'] = obs_df['mv'].replace(mv_to_phase)\n",
    "\n",
    "pressure = obs_df.pivot_table(index='agent_id',\n",
    "                              columns='mv',\n",
    "                              values='veh_num',\n",
    "                              aggfunc='sum')"
   ]
  },
  {
   "cell_type": "code",
   "execution_count": null,
   "id": "ffcc38c3",
   "metadata": {},
   "outputs": [],
   "source": [
    "phase_mv_inc = [\n",
    "    (1, 2), (1, 4), (2, 3), (2, 5),\n",
    "    (3, 0), (3, 6), (4, 1), (4, 7),\n",
    "    (5, 2), (5, 3), (6, 0), (6, 1),\n",
    "    (7, 4), (7, 5), (8, 6), (8, 7),\n",
    "]\n",
    "phase_mv_incidence = np.zeros((8, 8))\n",
    "for x, y in phase_mv_inc:\n",
    "    phase_mv_incidence[x - 1, y] = 1"
   ]
  },
  {
   "cell_type": "code",
   "execution_count": null,
   "id": "ffa0008e",
   "metadata": {},
   "outputs": [],
   "source": [
    "action = {}\n",
    "for i in range(len(pressure)):\n",
    "    agent_id = pressure.index[i]\n",
    "    phase_pressures = np.dot(phase_mv_incidence,pressure.iloc[i, :].values)\n",
    "    if np.std(phase_pressures) == 0:\n",
    "        action[agent_id] = np.random.randint(1, 9, 1)[0]\n",
    "    else:\n",
    "        agent_action = np.argmax(phase_pressures) + 1\n",
    "        action[agent_id] = agent_action"
   ]
  }
 ],
 "metadata": {
  "kernelspec": {
   "display_name": "Python 3",
   "language": "python",
   "name": "python3"
  },
  "language_info": {
   "codemirror_mode": {
    "name": "ipython",
    "version": 3
   },
   "file_extension": ".py",
   "mimetype": "text/x-python",
   "name": "python",
   "nbconvert_exporter": "python",
   "pygments_lexer": "ipython3",
   "version": "3.7.5"
  }
 },
 "nbformat": 4,
 "nbformat_minor": 5
}
